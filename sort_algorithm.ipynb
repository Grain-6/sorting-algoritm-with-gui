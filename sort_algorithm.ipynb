{
 "cells": [
  {
   "cell_type": "code",
   "execution_count": 9,
   "metadata": {},
   "outputs": [
    {
     "data": {
      "text/html": [
       "<div>\n",
       "<style scoped>\n",
       "    .dataframe tbody tr th:only-of-type {\n",
       "        vertical-align: middle;\n",
       "    }\n",
       "\n",
       "    .dataframe tbody tr th {\n",
       "        vertical-align: top;\n",
       "    }\n",
       "\n",
       "    .dataframe thead th {\n",
       "        text-align: right;\n",
       "    }\n",
       "</style>\n",
       "<table border=\"1\" class=\"dataframe\">\n",
       "  <thead>\n",
       "    <tr style=\"text-align: right;\">\n",
       "      <th></th>\n",
       "      <th>VehicleType</th>\n",
       "      <th>DerectionTime_O</th>\n",
       "      <th>GantryID_O</th>\n",
       "      <th>DerectionTime_D</th>\n",
       "      <th>GantryID_D</th>\n",
       "      <th>TripLength</th>\n",
       "      <th>TripEnd</th>\n",
       "      <th>TripInformation</th>\n",
       "    </tr>\n",
       "  </thead>\n",
       "  <tbody>\n",
       "    <tr>\n",
       "      <th>0</th>\n",
       "      <td>31</td>\n",
       "      <td>2019-08-30 08:17:14</td>\n",
       "      <td>03F3307N</td>\n",
       "      <td>2019-08-30 08:17:14</td>\n",
       "      <td>03F3307N</td>\n",
       "      <td>5.2</td>\n",
       "      <td>Y</td>\n",
       "      <td>2019-08-30 08:17:14+03F3307N</td>\n",
       "    </tr>\n",
       "    <tr>\n",
       "      <th>1</th>\n",
       "      <td>31</td>\n",
       "      <td>2019-08-30 08:01:02</td>\n",
       "      <td>03F0648S</td>\n",
       "      <td>2019-08-30 08:01:02</td>\n",
       "      <td>03F0648S</td>\n",
       "      <td>5.6</td>\n",
       "      <td>Y</td>\n",
       "      <td>2019-08-30 08:01:02+03F0648S</td>\n",
       "    </tr>\n",
       "    <tr>\n",
       "      <th>2</th>\n",
       "      <td>31</td>\n",
       "      <td>2019-08-30 08:51:45</td>\n",
       "      <td>03F0648N</td>\n",
       "      <td>2019-08-30 08:57:09</td>\n",
       "      <td>03F0559N</td>\n",
       "      <td>13.9</td>\n",
       "      <td>Y</td>\n",
       "      <td>2019-08-30 08:51:45+03F0648N; 2019-08-30 08:57...</td>\n",
       "    </tr>\n",
       "    <tr>\n",
       "      <th>3</th>\n",
       "      <td>31</td>\n",
       "      <td>2019-08-30 08:20:45</td>\n",
       "      <td>03F3854S</td>\n",
       "      <td>2019-08-30 08:20:45</td>\n",
       "      <td>03F3854S</td>\n",
       "      <td>8.6</td>\n",
       "      <td>Y</td>\n",
       "      <td>2019-08-30 08:20:45+03F3854S</td>\n",
       "    </tr>\n",
       "    <tr>\n",
       "      <th>4</th>\n",
       "      <td>32</td>\n",
       "      <td>2019-08-30 08:06:10</td>\n",
       "      <td>03F4168S</td>\n",
       "      <td>2019-08-30 08:09:33</td>\n",
       "      <td>03F4232S</td>\n",
       "      <td>9.3</td>\n",
       "      <td>Y</td>\n",
       "      <td>2019-08-30 08:06:10+03F4168S; 2019-08-30 08:09...</td>\n",
       "    </tr>\n",
       "  </tbody>\n",
       "</table>\n",
       "</div>"
      ],
      "text/plain": [
       "   VehicleType      DerectionTime_O GantryID_O      DerectionTime_D  \\\n",
       "0           31  2019-08-30 08:17:14   03F3307N  2019-08-30 08:17:14   \n",
       "1           31  2019-08-30 08:01:02   03F0648S  2019-08-30 08:01:02   \n",
       "2           31  2019-08-30 08:51:45   03F0648N  2019-08-30 08:57:09   \n",
       "3           31  2019-08-30 08:20:45   03F3854S  2019-08-30 08:20:45   \n",
       "4           32  2019-08-30 08:06:10   03F4168S  2019-08-30 08:09:33   \n",
       "\n",
       "  GantryID_D  TripLength TripEnd  \\\n",
       "0   03F3307N         5.2       Y   \n",
       "1   03F0648S         5.6       Y   \n",
       "2   03F0559N        13.9       Y   \n",
       "3   03F3854S         8.6       Y   \n",
       "4   03F4232S         9.3       Y   \n",
       "\n",
       "                                     TripInformation  \n",
       "0                       2019-08-30 08:17:14+03F3307N  \n",
       "1                       2019-08-30 08:01:02+03F0648S  \n",
       "2  2019-08-30 08:51:45+03F0648N; 2019-08-30 08:57...  \n",
       "3                       2019-08-30 08:20:45+03F3854S  \n",
       "4  2019-08-30 08:06:10+03F4168S; 2019-08-30 08:09...  "
      ]
     },
     "execution_count": 9,
     "metadata": {},
     "output_type": "execute_result"
    }
   ],
   "source": [
    "import time\n",
    "import timeit\n",
    "import numpy as np\n",
    "import pandas as pd\n",
    "import matplotlib.pyplot as plt\n",
    "\n",
    "traffic_data = pd.read_csv(\".\\TDCS_M06A_20190830_080000.csv\", header=None)\n",
    "names=['VehicleType','DerectionTime_O','GantryID_O','DerectionTime_D','GantryID_D','TripLength','TripEnd','TripInformation']\n",
    "traffic_data.columns=names\n",
    "traffic_data.head()"
   ]
  },
  {
   "cell_type": "markdown",
   "metadata": {},
   "source": [
    "# Merge sort"
   ]
  },
  {
   "cell_type": "code",
   "execution_count": 51,
   "metadata": {},
   "outputs": [],
   "source": [
    "def mergesort1(array):\n",
    "    if len(array) <= 1:\n",
    "        return array\n",
    "    mid = (len(array) + 1) // 2\n",
    "    sub1 = mergesort(array[:mid])\n",
    "    sub2 = mergesort(array[mid:])\n",
    "    return ordered_merge(sub1, sub2)\n",
    "\n",
    "def ordered_merge(a1, a2):\n",
    "    cnt1, cnt2 = 0, 0\n",
    "    result = []\n",
    "    while cnt1 < len(a1) and cnt2 < len(a2):\n",
    "        if a1[cnt1] < a2[cnt2]:\n",
    "            result.append(a1[cnt1])\n",
    "            cnt1 += 1\n",
    "        else:\n",
    "            result.append(a2[cnt2])\n",
    "            cnt2 += 1\n",
    "    result += a1[cnt1:]\n",
    "    result += a2[cnt2:]\n",
    "    return result"
   ]
  },
  {
   "cell_type": "code",
   "execution_count": 54,
   "metadata": {},
   "outputs": [],
   "source": [
    "def merge_sort(array):\n",
    "    if len(array) < 2:\n",
    "        return array\n",
    "    mid = len(array) // 2\n",
    "    sub1 = array[:mid]\n",
    "    sub2 = array[mid:]\n",
    "    \n",
    "    sub1 = merge_sort(sub1)\n",
    "    sub2 = merge_sort(sub2)\n",
    "    \n",
    "    return merge(sub1,sub2)\n",
    "    \n",
    "def merge(a1,a2):\n",
    "    n = len(a1) + len(a2)\n",
    "    result = [None] * n\n",
    "    index1,index2 = 0, 0\n",
    "    \n",
    "    while (index1 < len(a1)) and (index2 < len(a2)):\n",
    "        if a1[index1] <= a2[index2]:\n",
    "            result[index1 + index2] = a1[index1]\n",
    "            index1 += 1\n",
    "        else:\n",
    "            result[index1 + index2] = a2[index2]\n",
    "            index2 += 1\n",
    "        \n",
    "        if index1 == len(a1):\n",
    "            result[index1+index2:] = a2[index2:]\n",
    "        else:\n",
    "            result[index1+index2:] = a1[index1:]\n",
    "    \n",
    "    return result"
   ]
  },
  {
   "cell_type": "markdown",
   "metadata": {},
   "source": [
    "# Quick sort"
   ]
  },
  {
   "cell_type": "code",
   "execution_count": 3,
   "metadata": {},
   "outputs": [],
   "source": [
    "def quick_sort(arr):\n",
    "    if len(arr) < 2:\n",
    "        return arr\n",
    "    stack = []\n",
    "    stack.append(len(arr)-1)\n",
    "    stack.append(0)\n",
    "    while stack:\n",
    "        l = stack.pop()\n",
    "        r = stack.pop()\n",
    "        index = partition(arr, l, r)\n",
    "        if l < index - 1:\n",
    "            stack.append(index - 1)\n",
    "            stack.append(l)\n",
    "        if r > index + 1:\n",
    "            stack.append(r)\n",
    "            stack.append(index + 1)\n",
    "    return arr\n",
    "\n",
    "\n",
    "def partition(arr, start, end):\n",
    "    pivot = arr[start]\n",
    "    while start < end:\n",
    "        while start < end and arr[end] >= pivot:\n",
    "            end -= 1\n",
    "        arr[start] = arr[end]\n",
    "        while start < end and arr[start] <= pivot:\n",
    "            start += 1\n",
    "        arr[end] = arr[start]\n",
    "    # start = end\n",
    "    arr[start] = pivot\n",
    "    return start"
   ]
  },
  {
   "cell_type": "markdown",
   "metadata": {},
   "source": [
    "# heap"
   ]
  },
  {
   "cell_type": "code",
   "execution_count": 4,
   "metadata": {},
   "outputs": [],
   "source": [
    "class Heap():\n",
    "    def __init__(self, array):\n",
    "        self.heap = array\n",
    "        self.length = len(array)\n",
    "        self.build_max_heap()\n",
    "    def left(self, idx):\n",
    "        pos = 2 * idx + 1\n",
    "        return pos if pos < self.length else None\n",
    "    def right(self, idx):\n",
    "        pos = 2 * idx + 2\n",
    "        return pos if pos < self.length else None\n",
    "    def parent(self, idx):\n",
    "        return (idx - 1) // 2 if idx > 0 else None\n",
    "    def build_max_heap(self):\n",
    "        last_to_heapify = self.parent(self.length - 1)\n",
    "        for i in range(last_to_heapify, -1, -1):\n",
    "            self.max_heapify(i)\n",
    "    def _greater_child(self, i):\n",
    "        left, right = self.left(i), self.right(i)\n",
    "        if left is None and right is None:\n",
    "            return None\n",
    "        elif left is None:\n",
    "            return right\n",
    "        elif right is None:\n",
    "            return left\n",
    "        else:\n",
    "            return left if self.heap[left] > self.heap[right] else right\n",
    "    def max_heapify(self, i):\n",
    "        greater_child = self._greater_child(i)\n",
    "        if greater_child is not None and self.heap[greater_child] > self.heap[i]:\n",
    "            self.heap[i], self.heap[greater_child] = self.heap[greater_child], self.heap[i]\n",
    "            self.max_heapify(greater_child)\n",
    "    def sort(self):\n",
    "        while self.length > 1:\n",
    "            self.heap[0], self.heap[self.length - 1] = self.heap[self.length - 1], self.heap[0]\n",
    "            self.length -= 1\n",
    "            self.max_heapify(0)\n",
    "        return self.heap\n",
    "def heap(array):\n",
    "    return Heap(array).sort()"
   ]
  },
  {
   "cell_type": "markdown",
   "metadata": {},
   "source": [
    "# BST and AVL Tree"
   ]
  },
  {
   "cell_type": "code",
   "execution_count": 5,
   "metadata": {},
   "outputs": [],
   "source": [
    "class Node:\n",
    "    def __init__(self, data):\n",
    "        self.left = None\n",
    "        self.right = None\n",
    "        self.parent = None\n",
    "        self.data = data\n",
    "        self.height = 0\n",
    "        \n",
    "class BST():\n",
    "    def __init__(self, data_array = []):\n",
    "        self.root = None\n",
    "        for data in data_array:\n",
    "            self.insert(Node(data))\n",
    "    def insert(self, new_node, node = 0):\n",
    "        if not self.root:\n",
    "            self.root = new_node\n",
    "            return new_node\n",
    "        if node == 0:\n",
    "            node = self.root\n",
    "        if new_node.data < node.data:\n",
    "            if node.left:\n",
    "                self.insert(new_node, node.left)\n",
    "            else:\n",
    "                new_node.parent = node\n",
    "                node.left = new_node\n",
    "        else:\n",
    "            if node.right:\n",
    "                self.insert(new_node, node.right)\n",
    "            else:\n",
    "                new_node.parent = node\n",
    "                node.right = new_node\n",
    "    def sort(self, node = 0, result = None):\n",
    "        if result is None:\n",
    "            result = []\n",
    "        if node == 0:\n",
    "            node = self.root\n",
    "        if node:\n",
    "            self.sort(node.left, result)\n",
    "            result.append(node.data)\n",
    "            self.sort(node.right, result)\n",
    "        return result\n",
    "def BST_sort(array):\n",
    "    return BST(array).sort()\n",
    "        \n",
    "class AVL(BST):\n",
    "    def __init__(self, data_array = []):\n",
    "        self.root = None\n",
    "        for data in data_array:\n",
    "            self.insert(Node(data))\n",
    "    def insert(self, new_node, node = 0):\n",
    "        super().insert(new_node, node)\n",
    "        self.check_fix_AVL(new_node.parent)\n",
    "        return new_node\n",
    "    def update_all_heights_upward(self, node):\n",
    "        node.update_height()\n",
    "        if node is not self.root:\n",
    "            self.update_all_heights_upward(node.parent)\n",
    "    def _left_rotate(self, x):\n",
    "        y = x.right\n",
    "        B = y.left\n",
    "        y.parent = x.parent\n",
    "        y.left = x\n",
    "        if y.parent is None:\n",
    "            self.root = y\n",
    "        elif y.parent.left is x:\n",
    "            y.parent.left = y\n",
    "        else:\n",
    "            y.parent.right = y\n",
    "        x.parent = y\n",
    "        x.right = B\n",
    "        if B is not None:\n",
    "            B.parent = x\n",
    "        self.update_all_heights_upward(x)\n",
    "    def _right_rotate(self, x):\n",
    "        y = x.left\n",
    "        B = y.right\n",
    "        y.parent = x.parent\n",
    "        y.right = x\n",
    "        if y.parent is None:\n",
    "            self.root = y\n",
    "        elif y.parent.right is x:\n",
    "            y.parent.right = y\n",
    "        else:\n",
    "            y.parent.left = y\n",
    "        x.parent = y\n",
    "        x.left = B\n",
    "        if B is not None:\n",
    "            B.parent = x\n",
    "        self.update_all_heights_upward(x)\n",
    "    def check_fix_AVL(self, node):\n",
    "        if node is None:\n",
    "            return\n",
    "        if abs(node.balance()) < 2:\n",
    "            self.check_fix_AVL(node.parent)\n",
    "            return\n",
    "        if node.balance == 2:\n",
    "            if node.right.balance() >= 0:\n",
    "                self._left_rotate(node)\n",
    "            else:\n",
    "                self._right_rotate(node.right)\n",
    "                self._left_rotate(node)\n",
    "        else:\n",
    "            if node.left.balance() <= 0:\n",
    "                self._right_rotate(node)\n",
    "            else:\n",
    "                self._left_rotate(node.left)\n",
    "                self._right_rotate(node)\n",
    "        self.check_fix_AVL(node.parent)\n",
    "def AVL_sort(array):\n",
    "    return AVL(array).sort()"
   ]
  },
  {
   "cell_type": "markdown",
   "metadata": {},
   "source": [
    "# insertionsort"
   ]
  },
  {
   "cell_type": "code",
   "execution_count": 6,
   "metadata": {},
   "outputs": [],
   "source": [
    "def inerstion_sort(array):\n",
    "    n = len(array)\n",
    "    for i in range(1,n):        \n",
    "        temp = array[i]          \n",
    "        for j in range(i):             \n",
    "            if array[j] > array[i]:\n",
    "                array[j+1:i+1] = array[j:i]\n",
    "                array[j] = temp\n",
    "    return array"
   ]
  },
  {
   "cell_type": "markdown",
   "metadata": {},
   "source": [
    "# bubblesort"
   ]
  },
  {
   "cell_type": "code",
   "execution_count": 7,
   "metadata": {},
   "outputs": [],
   "source": [
    "def bubble(array):\n",
    "    n = len(array)\n",
    "    while True:\n",
    "        swapped = False\n",
    "        for i in range(n - 1):\n",
    "            if array[i] > array[i + 1]:\n",
    "                array[i], array[i + 1] = array[i + 1], array[i]\n",
    "                swapped = True\n",
    "        if swapped == False:\n",
    "            break\n",
    "    return array\n"
   ]
  },
  {
   "cell_type": "markdown",
   "metadata": {},
   "source": [
    "# Manage data"
   ]
  },
  {
   "cell_type": "code",
   "execution_count": 39,
   "metadata": {},
   "outputs": [],
   "source": [
    "VehicleType = [row[0] for row in traffic_data.values.tolist()][:]\n",
    "DirectionTime_O = [row[1] for row in traffic_data.values.tolist()][:]\n",
    "GantryID_O = [row[2] for row in traffic_data.values.tolist()][:]"
   ]
  },
  {
   "cell_type": "markdown",
   "metadata": {},
   "source": [
    "# Define search function"
   ]
  },
  {
   "cell_type": "code",
   "execution_count": 87,
   "metadata": {},
   "outputs": [],
   "source": [
    "names=['VehicleType','DerectionTime_O','GantryID_O','DerectionTime_D','GantryID_D','TripLength','TripEnd','TripInformation']\n",
    "sort_name = [mergesort,quick_sort,heap,BST_sort,AVL_sort,inerstion_sort,bubble]\n",
    "def search(keyword=None,data=None,frame=traffic_data):\n",
    "    str_data = data\n",
    "    str_data = [str(i) for i in str_data]\n",
    "    if keyword == None or data==None:\n",
    "        new_data = frame\n",
    "        print(\"Below is the original 10 rows of the Inquiry System for Taiwan Traffic Data\")\n",
    "        print(new_data.head(10))\n",
    "    else:\n",
    "        find = str(keyword)\n",
    "        index_find = [i for i,v in enumerate(str_data) if v==find]\n",
    "        new_data = frame.loc[index_find]\n",
    "        print(\"Below is the original 10 rows of the Inquiry System for Taiwan Traffic Data after searching\")\n",
    "        print(new_data.head(10))\n",
    "    return new_data\n",
    "\n",
    "\n",
    "def sort_result(func = None,data = traffic_data,size = 1,col = None):\n",
    "    if func == None:\n",
    "        result = data\n",
    "        print(\"Below is the original 10 rows of the Inquiry System for Taiwan Traffic Data\")\n",
    "        print(result.head(10))\n",
    "    else:\n",
    "        sort_origin = data[col]\n",
    "        sample_size = int(len(sort_origin)* size)\n",
    "        new_sort = sort_origin[:sample_size].to_list()\n",
    "        result = func(new_sort)\n",
    "        print(\"Below is the top 10 rows of the Inquiry System for Taiwan Traffic Data after sorting \")\n",
    "        print(pd.DataFrame(result).head(10))\n",
    "        "
   ]
  },
  {
   "cell_type": "code",
   "execution_count": 88,
   "metadata": {},
   "outputs": [
    {
     "name": "stdout",
     "output_type": "stream",
     "text": [
      "Below is the top 10 rows of the Inquiry System for Taiwan Traffic Data after sorting \n",
      "   0\n",
      "0  5\n",
      "1  5\n",
      "2  5\n",
      "3  5\n",
      "4  5\n",
      "5  5\n",
      "6  5\n",
      "7  5\n",
      "8  5\n",
      "9  5\n"
     ]
    }
   ],
   "source": [
    "sort_result(func = merge_sort,data = traffic_data,size = 1,col = 'VehicleType')"
   ]
  },
  {
   "cell_type": "code",
   "execution_count": 63,
   "metadata": {},
   "outputs": [
    {
     "data": {
      "text/plain": [
       "129811"
      ]
     },
     "execution_count": 63,
     "metadata": {},
     "output_type": "execute_result"
    }
   ],
   "source": [
    "sort_origin = traffic_data['VehicleType']\n",
    "sample_size = int(len(sort_origin)* 1)\n",
    "new_sort = sort_origin[:sample_size]\n",
    "new_sort\n",
    "mid = len(new_sort)//2\n",
    "mid"
   ]
  },
  {
   "cell_type": "code",
   "execution_count": 81,
   "metadata": {},
   "outputs": [
    {
     "data": {
      "text/plain": [
       "0          5\n",
       "1          5\n",
       "2          5\n",
       "3          5\n",
       "4          5\n",
       "          ..\n",
       "259618    42\n",
       "259619    42\n",
       "259620    42\n",
       "259621    42\n",
       "259622    42\n",
       "Name: VehicleType, Length: 259623, dtype: int64"
      ]
     },
     "execution_count": 81,
     "metadata": {},
     "output_type": "execute_result"
    }
   ],
   "source": [
    "traffic_data['VehicleType']"
   ]
  },
  {
   "cell_type": "code",
   "execution_count": 71,
   "metadata": {},
   "outputs": [
    {
     "ename": "KeyError",
     "evalue": "0",
     "output_type": "error",
     "traceback": [
      "\u001b[1;31m---------------------------------------------------------------------------\u001b[0m",
      "\u001b[1;31mKeyError\u001b[0m                                  Traceback (most recent call last)",
      "\u001b[1;32mD:\\anaconda\\lib\\site-packages\\pandas\\core\\indexes\\base.py\u001b[0m in \u001b[0;36mget_loc\u001b[1;34m(self, key, method, tolerance)\u001b[0m\n\u001b[0;32m   3628\u001b[0m             \u001b[1;32mtry\u001b[0m\u001b[1;33m:\u001b[0m\u001b[1;33m\u001b[0m\u001b[1;33m\u001b[0m\u001b[0m\n\u001b[1;32m-> 3629\u001b[1;33m                 \u001b[1;32mreturn\u001b[0m \u001b[0mself\u001b[0m\u001b[1;33m.\u001b[0m\u001b[0m_engine\u001b[0m\u001b[1;33m.\u001b[0m\u001b[0mget_loc\u001b[0m\u001b[1;33m(\u001b[0m\u001b[0mcasted_key\u001b[0m\u001b[1;33m)\u001b[0m\u001b[1;33m\u001b[0m\u001b[1;33m\u001b[0m\u001b[0m\n\u001b[0m\u001b[0;32m   3630\u001b[0m             \u001b[1;32mexcept\u001b[0m \u001b[0mKeyError\u001b[0m \u001b[1;32mas\u001b[0m \u001b[0merr\u001b[0m\u001b[1;33m:\u001b[0m\u001b[1;33m\u001b[0m\u001b[1;33m\u001b[0m\u001b[0m\n",
      "\u001b[1;32mD:\\anaconda\\lib\\site-packages\\pandas\\_libs\\index.pyx\u001b[0m in \u001b[0;36mpandas._libs.index.IndexEngine.get_loc\u001b[1;34m()\u001b[0m\n",
      "\u001b[1;32mD:\\anaconda\\lib\\site-packages\\pandas\\_libs\\index.pyx\u001b[0m in \u001b[0;36mpandas._libs.index.IndexEngine.get_loc\u001b[1;34m()\u001b[0m\n",
      "\u001b[1;32mpandas\\_libs\\hashtable_class_helper.pxi\u001b[0m in \u001b[0;36mpandas._libs.hashtable.PyObjectHashTable.get_item\u001b[1;34m()\u001b[0m\n",
      "\u001b[1;32mpandas\\_libs\\hashtable_class_helper.pxi\u001b[0m in \u001b[0;36mpandas._libs.hashtable.PyObjectHashTable.get_item\u001b[1;34m()\u001b[0m\n",
      "\u001b[1;31mKeyError\u001b[0m: 0",
      "\nThe above exception was the direct cause of the following exception:\n",
      "\u001b[1;31mKeyError\u001b[0m                                  Traceback (most recent call last)",
      "\u001b[1;32m~\\AppData\\Local\\Temp\\ipykernel_4992\\3875513030.py\u001b[0m in \u001b[0;36m<module>\u001b[1;34m\u001b[0m\n\u001b[1;32m----> 1\u001b[1;33m \u001b[0mmerge_sort\u001b[0m\u001b[1;33m(\u001b[0m\u001b[0mtraffic_data\u001b[0m\u001b[1;33m[\u001b[0m\u001b[1;36m0\u001b[0m\u001b[1;33m]\u001b[0m\u001b[1;33m[\u001b[0m\u001b[1;33m:\u001b[0m\u001b[1;33m]\u001b[0m\u001b[1;33m)\u001b[0m\u001b[1;33m\u001b[0m\u001b[1;33m\u001b[0m\u001b[0m\n\u001b[0m",
      "\u001b[1;32mD:\\anaconda\\lib\\site-packages\\pandas\\core\\frame.py\u001b[0m in \u001b[0;36m__getitem__\u001b[1;34m(self, key)\u001b[0m\n\u001b[0;32m   3503\u001b[0m             \u001b[1;32mif\u001b[0m \u001b[0mself\u001b[0m\u001b[1;33m.\u001b[0m\u001b[0mcolumns\u001b[0m\u001b[1;33m.\u001b[0m\u001b[0mnlevels\u001b[0m \u001b[1;33m>\u001b[0m \u001b[1;36m1\u001b[0m\u001b[1;33m:\u001b[0m\u001b[1;33m\u001b[0m\u001b[1;33m\u001b[0m\u001b[0m\n\u001b[0;32m   3504\u001b[0m                 \u001b[1;32mreturn\u001b[0m \u001b[0mself\u001b[0m\u001b[1;33m.\u001b[0m\u001b[0m_getitem_multilevel\u001b[0m\u001b[1;33m(\u001b[0m\u001b[0mkey\u001b[0m\u001b[1;33m)\u001b[0m\u001b[1;33m\u001b[0m\u001b[1;33m\u001b[0m\u001b[0m\n\u001b[1;32m-> 3505\u001b[1;33m             \u001b[0mindexer\u001b[0m \u001b[1;33m=\u001b[0m \u001b[0mself\u001b[0m\u001b[1;33m.\u001b[0m\u001b[0mcolumns\u001b[0m\u001b[1;33m.\u001b[0m\u001b[0mget_loc\u001b[0m\u001b[1;33m(\u001b[0m\u001b[0mkey\u001b[0m\u001b[1;33m)\u001b[0m\u001b[1;33m\u001b[0m\u001b[1;33m\u001b[0m\u001b[0m\n\u001b[0m\u001b[0;32m   3506\u001b[0m             \u001b[1;32mif\u001b[0m \u001b[0mis_integer\u001b[0m\u001b[1;33m(\u001b[0m\u001b[0mindexer\u001b[0m\u001b[1;33m)\u001b[0m\u001b[1;33m:\u001b[0m\u001b[1;33m\u001b[0m\u001b[1;33m\u001b[0m\u001b[0m\n\u001b[0;32m   3507\u001b[0m                 \u001b[0mindexer\u001b[0m \u001b[1;33m=\u001b[0m \u001b[1;33m[\u001b[0m\u001b[0mindexer\u001b[0m\u001b[1;33m]\u001b[0m\u001b[1;33m\u001b[0m\u001b[1;33m\u001b[0m\u001b[0m\n",
      "\u001b[1;32mD:\\anaconda\\lib\\site-packages\\pandas\\core\\indexes\\base.py\u001b[0m in \u001b[0;36mget_loc\u001b[1;34m(self, key, method, tolerance)\u001b[0m\n\u001b[0;32m   3629\u001b[0m                 \u001b[1;32mreturn\u001b[0m \u001b[0mself\u001b[0m\u001b[1;33m.\u001b[0m\u001b[0m_engine\u001b[0m\u001b[1;33m.\u001b[0m\u001b[0mget_loc\u001b[0m\u001b[1;33m(\u001b[0m\u001b[0mcasted_key\u001b[0m\u001b[1;33m)\u001b[0m\u001b[1;33m\u001b[0m\u001b[1;33m\u001b[0m\u001b[0m\n\u001b[0;32m   3630\u001b[0m             \u001b[1;32mexcept\u001b[0m \u001b[0mKeyError\u001b[0m \u001b[1;32mas\u001b[0m \u001b[0merr\u001b[0m\u001b[1;33m:\u001b[0m\u001b[1;33m\u001b[0m\u001b[1;33m\u001b[0m\u001b[0m\n\u001b[1;32m-> 3631\u001b[1;33m                 \u001b[1;32mraise\u001b[0m \u001b[0mKeyError\u001b[0m\u001b[1;33m(\u001b[0m\u001b[0mkey\u001b[0m\u001b[1;33m)\u001b[0m \u001b[1;32mfrom\u001b[0m \u001b[0merr\u001b[0m\u001b[1;33m\u001b[0m\u001b[1;33m\u001b[0m\u001b[0m\n\u001b[0m\u001b[0;32m   3632\u001b[0m             \u001b[1;32mexcept\u001b[0m \u001b[0mTypeError\u001b[0m\u001b[1;33m:\u001b[0m\u001b[1;33m\u001b[0m\u001b[1;33m\u001b[0m\u001b[0m\n\u001b[0;32m   3633\u001b[0m                 \u001b[1;31m# If we have a listlike key, _check_indexing_error will raise\u001b[0m\u001b[1;33m\u001b[0m\u001b[1;33m\u001b[0m\u001b[0m\n",
      "\u001b[1;31mKeyError\u001b[0m: 0"
     ]
    }
   ],
   "source": [
    "merge_sort(traffic_data[0][:])"
   ]
  },
  {
   "cell_type": "code",
   "execution_count": 72,
   "metadata": {},
   "outputs": [],
   "source": [
    "def mergesort(array):\n",
    "    if len(array) <= 1:\n",
    "        return array\n",
    "    mid = (len(array) + 1) // 2\n",
    "    sub1 = mergesort(array[:mid])\n",
    "    sub2 = mergesort(array[mid:])\n",
    "    return ordered_merge(sub1, sub2)\n",
    "\n",
    "def ordered_merge(a1, a2):\n",
    "    cnt1, cnt2 = 0, 0\n",
    "    result = []\n",
    "    while cnt1 < len(a1) and cnt2 < len(a2):\n",
    "        if a1[cnt1] < a2[cnt2]:\n",
    "            result.append(a1[cnt1])\n",
    "            cnt1 += 1\n",
    "        else:\n",
    "            result.append(a2[cnt2])\n",
    "            cnt2 += 1\n",
    "    result += a1[cnt1:]\n",
    "    result += a2[cnt2:]\n",
    "    return result"
   ]
  },
  {
   "cell_type": "code",
   "execution_count": 77,
   "metadata": {},
   "outputs": [],
   "source": [
    "def check_sort_result(func, data):\n",
    "    start = time.time()\n",
    "    data_copy = data[:] # important -- copy the list, instead of copy the reference.\n",
    "    result = func(data_copy)\n",
    "    time_used = time.time() - start\n",
    "    for i in range(len(result)-1):\n",
    "        if result[i] > result[i+1]:\n",
    "            print(\"Check failed: func(data) is not sorted properly.\")\n",
    "            return\n",
    "    print(\"The method {0} returned successfully for data size {1} with {2} seconds.\".format(func.__name__.center(15), len(result), time_used))"
   ]
  },
  {
   "cell_type": "code",
   "execution_count": 82,
   "metadata": {},
   "outputs": [],
   "source": [
    "data = traffic_data['VehicleType']"
   ]
  },
  {
   "cell_type": "code",
   "execution_count": 84,
   "metadata": {},
   "outputs": [
    {
     "name": "stdout",
     "output_type": "stream",
     "text": [
      "The method    mergesort    returned successfully for data size 259623 with 0.9053518772125244 seconds.\n"
     ]
    }
   ],
   "source": [
    "check_sort_result(mergesort,data.to_list())"
   ]
  },
  {
   "cell_type": "code",
   "execution_count": null,
   "metadata": {},
   "outputs": [],
   "source": []
  }
 ],
 "metadata": {
  "kernelspec": {
   "display_name": "Python 3",
   "language": "python",
   "name": "python3"
  },
  "language_info": {
   "codemirror_mode": {
    "name": "ipython",
    "version": 3
   },
   "file_extension": ".py",
   "mimetype": "text/x-python",
   "name": "python",
   "nbconvert_exporter": "python",
   "pygments_lexer": "ipython3",
   "version": "3.8.5"
  }
 },
 "nbformat": 4,
 "nbformat_minor": 5
}
